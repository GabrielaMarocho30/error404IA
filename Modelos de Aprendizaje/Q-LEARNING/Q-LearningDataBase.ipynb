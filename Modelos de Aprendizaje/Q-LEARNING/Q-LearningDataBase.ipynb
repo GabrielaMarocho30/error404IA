{
 "cells": [
  {
   "cell_type": "code",
   "execution_count": 1,
   "id": "2ae59550-e703-46e2-b40b-adc1ef560e7b",
   "metadata": {},
   "outputs": [
    {
     "name": "stdout",
     "output_type": "stream",
     "text": [
      "Requirement already satisfied: pyglet==1.5.1 in d:\\anaconda\\lib\\site-packages (1.5.1)\n",
      "Requirement already satisfied: gym==0.24 in d:\\anaconda\\lib\\site-packages (0.24.0)\n",
      "Requirement already satisfied: numpy>=1.18.0 in d:\\anaconda\\lib\\site-packages (from gym==0.24) (1.26.4)\n",
      "Requirement already satisfied: cloudpickle>=1.2.0 in d:\\anaconda\\lib\\site-packages (from gym==0.24) (2.2.1)\n",
      "Requirement already satisfied: gym-notices>=0.0.4 in d:\\anaconda\\lib\\site-packages (from gym==0.24) (0.0.8)\n",
      "Requirement already satisfied: pygame in d:\\anaconda\\lib\\site-packages (2.6.1)\n",
      "Requirement already satisfied: numpy in d:\\anaconda\\lib\\site-packages (1.26.4)\n",
      "Requirement already satisfied: imageio in d:\\anaconda\\lib\\site-packages (2.33.1)\n",
      "Requirement already satisfied: imageio_ffmpeg in d:\\anaconda\\lib\\site-packages (0.5.1)\n",
      "Requirement already satisfied: numpy in d:\\anaconda\\lib\\site-packages (from imageio) (1.26.4)\n",
      "Requirement already satisfied: pillow>=8.3.2 in d:\\anaconda\\lib\\site-packages (from imageio) (10.3.0)\n",
      "Requirement already satisfied: setuptools in d:\\anaconda\\lib\\site-packages (from imageio_ffmpeg) (69.5.1)\n"
     ]
    }
   ],
   "source": [
    "# Instalar dependencias necesarias (sin xvfb ni pyvirtualdisplay)\n",
    "!pip install pyglet==1.5.1\n",
    "!pip install gym==0.24\n",
    "!pip install pygame\n",
    "!pip install numpy\n",
    "!pip install imageio imageio_ffmpeg"
   ]
  },
  {
   "cell_type": "code",
   "execution_count": 2,
   "id": "5e2c2619-8bbb-4ddb-9644-72957fc9a657",
   "metadata": {},
   "outputs": [
    {
     "name": "stdout",
     "output_type": "stream",
     "text": [
      "Requirement already satisfied: gym==0.24 in d:\\anaconda\\lib\\site-packages (0.24.0)\n",
      "Requirement already satisfied: numpy>=1.18.0 in d:\\anaconda\\lib\\site-packages (from gym==0.24) (1.26.4)\n",
      "Requirement already satisfied: cloudpickle>=1.2.0 in d:\\anaconda\\lib\\site-packages (from gym==0.24) (2.2.1)\n",
      "Requirement already satisfied: gym-notices>=0.0.4 in d:\\anaconda\\lib\\site-packages (from gym==0.24) (0.0.8)\n",
      "Requirement already satisfied: pygame in d:\\anaconda\\lib\\site-packages (2.6.1)\n",
      "Requirement already satisfied: numpy in d:\\anaconda\\lib\\site-packages (1.26.4)\n",
      "Requirement already satisfied: tqdm in d:\\anaconda\\lib\\site-packages (4.66.4)\n",
      "Requirement already satisfied: colorama in d:\\anaconda\\lib\\site-packages (from tqdm) (0.4.6)\n",
      "Requirement already satisfied: imageio in d:\\anaconda\\lib\\site-packages (2.33.1)\n",
      "Requirement already satisfied: imageio_ffmpeg in d:\\anaconda\\lib\\site-packages (0.5.1)\n",
      "Requirement already satisfied: numpy in d:\\anaconda\\lib\\site-packages (from imageio) (1.26.4)\n",
      "Requirement already satisfied: pillow>=8.3.2 in d:\\anaconda\\lib\\site-packages (from imageio) (10.3.0)\n",
      "Requirement already satisfied: setuptools in d:\\anaconda\\lib\\site-packages (from imageio_ffmpeg) (69.5.1)\n"
     ]
    }
   ],
   "source": [
    "!pip install gym==0.24\n",
    "!pip install pygame\n",
    "!pip install numpy\n",
    "!pip install tqdm\n",
    "!pip install imageio imageio_ffmpeg"
   ]
  },
  {
   "cell_type": "code",
   "execution_count": 3,
   "id": "e8774999-f81c-4b0f-8e34-4ff74677de37",
   "metadata": {},
   "outputs": [
    {
     "name": "stderr",
     "output_type": "stream",
     "text": [
      "Warning: Gym version v0.24.0 has a number of critical issues with `gym.make` such that the `reset` and `step` functions are called before returning the environment. It is recommend to downgrading to v0.23.1 or upgrading to v0.25.1\n"
     ]
    }
   ],
   "source": [
    "import numpy as np\n",
    "import gym\n",
    "import random\n",
    "import imageio\n",
    "from tqdm.notebook import trange\n",
    "from tqdm import trange\n",
    "import pandas as pd\n",
    "import os\n",
    "import imageio\n",
    "from IPython.display import Image"
   ]
  },
  {
   "cell_type": "code",
   "execution_count": 10,
   "id": "e87cbf23-f905-4dd2-bd90-4d2903ae8b97",
   "metadata": {},
   "outputs": [
    {
     "name": "stdout",
     "output_type": "stream",
     "text": [
      "Dataset de fútbol cargado desde CSV:\n",
      "            state   action  reward    next_state\n",
      "0    Ataque_zona  Disparo       1      Reinicio\n",
      "1    Ataque_zona     Pase       0   Ataque_zona\n",
      "2    Medio_campo     Pase       0   Ataque_zona\n",
      "3    Medio_campo  Despeje       0  Defensa_zona\n",
      "4   Defensa_zona  Despeje      -1   Medio_campo\n",
      "5   Defensa_zona     Pase       0   Ataque_zona\n",
      "6    Ataque_zona  Disparo       1      Reinicio\n",
      "7    Ataque_zona     Pase       0   Medio_campo\n",
      "8    Medio_campo     Pase       0   Ataque_zona\n",
      "9    Medio_campo  Despeje      -1  Defensa_zona\n",
      "10  Defensa_zona  Despeje      -1   Medio_campo\n",
      "11  Defensa_zona     Pase       0   Ataque_zona\n",
      "12   Ataque_zona     Pase       0   Medio_campo\n",
      "13   Medio_campo  Despeje       0  Defensa_zona\n",
      "14  Defensa_zona  Despeje      -1   Medio_campo\n",
      "\n",
      "Tabla Q entrenada:\n",
      "[[ 0.91        0.63005425  0.        ]\n",
      " [ 0.          0.7448      0.37815925]\n",
      " [ 0.          0.7448     -0.30126023]\n",
      " [ 0.          0.          0.        ]]\n",
      "\n",
      "Estado -> Índice: {'Ataque_zona': 0, 'Medio_campo': 1, 'Defensa_zona': 2, 'Reinicio': 3}\n",
      "Acción -> Índice: {'Disparo': 0, 'Pase': 1, 'Despeje': 2}\n"
     ]
    }
   ],
   "source": [
    "import numpy as np\n",
    "import pandas as pd\n",
    "\n",
    "# Cargar el dataset desde el archivo CSV\n",
    "dataset = pd.read_csv('futbol_real_dataset.csv')\n",
    "\n",
    "# Mostrar el dataset para verificar que se cargó correctamente\n",
    "print(\"Dataset de fútbol cargado desde CSV:\\n\", dataset)\n",
    "\n",
    "# Definir los estados y acciones únicos\n",
    "states = dataset['state'].unique().tolist()\n",
    "actions = dataset['action'].unique()\n",
    "\n",
    "# Añadir el estado 'Reinicio' si no está en el dataset\n",
    "if 'Reinicio' not in states:\n",
    "    states.append('Reinicio')\n",
    "\n",
    "# Inicializamos la tabla Q con ceros\n",
    "Qtable = np.zeros((len(states), len(actions)))\n",
    "\n",
    "# Mapear estados y acciones a índices\n",
    "state_to_index = {state: idx for idx, state in enumerate(states)}\n",
    "action_to_index = {action: idx for idx, action in enumerate(actions)}\n",
    "\n",
    "# Parámetros del Q-learning\n",
    "alpha = 0.7   # Tasa de aprendizaje\n",
    "gamma = 0.95  # Factor de descuento\n",
    "\n",
    "# Entrenamiento de Q-learning usando el dataset cargado\n",
    "for i, row in dataset.iterrows():\n",
    "    state_idx = state_to_index[row['state']]\n",
    "    action_idx = action_to_index[row['action']]\n",
    "    next_state_idx = state_to_index[row['next_state']]\n",
    "\n",
    "    # Obtener la recompensa\n",
    "    reward = row['reward']\n",
    "\n",
    "    # Actualizar la tabla Q usando la fórmula de Q-learning\n",
    "    Qtable[state_idx, action_idx] = Qtable[state_idx, action_idx] + alpha * (\n",
    "        reward + gamma * np.max(Qtable[next_state_idx, :]) - Qtable[state_idx, action_idx]\n",
    "    )\n",
    "\n",
    "# Mostrar la tabla Q entrenada\n",
    "print(\"\\nTabla Q entrenada:\")\n",
    "print(Qtable)\n",
    "\n",
    "# Mostrar el mapeo de índices para entender mejor los resultados\n",
    "print(\"\\nEstado -> Índice:\", state_to_index)\n",
    "print(\"Acción -> Índice:\", action_to_index)\n"
   ]
  },
  {
   "cell_type": "code",
   "execution_count": null,
   "id": "86dc3062-2d71-40d3-a14c-a59d92c5e928",
   "metadata": {},
   "outputs": [],
   "source": [
    "--------------------------------------------------------------------------------------------------------------------------"
   ]
  },
  {
   "cell_type": "code",
   "execution_count": 6,
   "id": "ed5e510f-dd61-4fdc-84ec-517c875e10a7",
   "metadata": {},
   "outputs": [
    {
     "name": "stdout",
     "output_type": "stream",
     "text": [
      "Archivo CSV generado: 'futbol_dataset.csv'\n"
     ]
    }
   ],
   "source": [
    "import pandas as pd\n",
    "\n",
    "# Creamos un dataset estructurado para un partido de fútbol con más datos\n",
    "data = {\n",
    "    'state': ['Ataque_zona', 'Medio_campo', 'Defensa_zona', 'Ataque_zona', 'Medio_campo',\n",
    "              'Defensa_zona', 'Ataque_zona', 'Ataque_zona', 'Medio_campo', 'Defensa_zona',\n",
    "              'Medio_campo', 'Ataque_zona', 'Medio_campo', 'Defensa_zona', 'Medio_campo'],\n",
    "    'action': ['Disparo', 'Pase', 'Despeje', 'Pase', 'Pase',\n",
    "               'Despeje', 'Disparo', 'Pase', 'Pase', 'Despeje',\n",
    "               'Pase', 'Disparo', 'Pase', 'Despeje', 'Pase'],\n",
    "    'reward': [1, 0, 0, 0, 0, \n",
    "               0, 1, 0, 0, 0, \n",
    "               0, 1, 0, 0, 0],  # Recompensa +1 por un gol\n",
    "    'next_state': ['Reinicio', 'Ataque_zona', 'Medio_campo', 'Ataque_zona', 'Ataque_zona',\n",
    "                   'Medio_campo', 'Reinicio', 'Ataque_zona', 'Ataque_zona', 'Medio_campo',\n",
    "                   'Ataque_zona', 'Reinicio', 'Defensa_zona', 'Medio_campo', 'Ataque_zona']\n",
    "}\n",
    "\n",
    "# Convertimos el diccionario en un DataFrame de pandas\n",
    "df = pd.DataFrame(data)\n",
    "\n",
    "# Guardamos el DataFrame como un archivo CSV\n",
    "df.to_csv('futbol_dataset.csv', index=False)\n",
    "\n",
    "print(\"Archivo CSV generado: 'futbol_dataset.csv'\")\n"
   ]
  },
  {
   "cell_type": "code",
   "execution_count": 9,
   "id": "8585ff60-ba9a-472a-9295-d8dafc19ceef",
   "metadata": {},
   "outputs": [
    {
     "name": "stdout",
     "output_type": "stream",
     "text": [
      "Dataset creado:\n",
      "            state   action  reward    next_state\n",
      "0    Ataque_zona  Disparo       1      Reinicio\n",
      "1    Ataque_zona     Pase       0   Ataque_zona\n",
      "2    Medio_campo     Pase       0   Ataque_zona\n",
      "3    Medio_campo  Despeje       0  Defensa_zona\n",
      "4   Defensa_zona  Despeje      -1   Medio_campo\n",
      "5   Defensa_zona     Pase       0   Ataque_zona\n",
      "6    Ataque_zona  Disparo       1      Reinicio\n",
      "7    Ataque_zona     Pase       0   Medio_campo\n",
      "8    Medio_campo     Pase       0   Ataque_zona\n",
      "9    Medio_campo  Despeje      -1  Defensa_zona\n",
      "10  Defensa_zona  Despeje      -1   Medio_campo\n",
      "11  Defensa_zona     Pase       0   Ataque_zona\n",
      "12   Ataque_zona     Pase       0   Medio_campo\n",
      "13   Medio_campo  Despeje       0  Defensa_zona\n",
      "14  Defensa_zona  Despeje      -1   Medio_campo\n"
     ]
    }
   ],
   "source": [
    "import pandas as pd\n",
    "\n",
    "# Simulamos un dataset estructurado para un partido de fútbol\n",
    "data = {\n",
    "    'state': ['Ataque_zona', 'Ataque_zona', 'Medio_campo', 'Medio_campo', 'Defensa_zona', 'Defensa_zona', 'Ataque_zona', 'Ataque_zona',\n",
    "              'Medio_campo', 'Medio_campo', 'Defensa_zona', 'Defensa_zona', 'Ataque_zona', 'Medio_campo', 'Defensa_zona'],\n",
    "    'action': ['Disparo', 'Pase', 'Pase', 'Despeje', 'Despeje', 'Pase', 'Disparo', 'Pase', 'Pase', 'Despeje', 'Despeje', 'Pase', 'Pase', 'Despeje', 'Despeje'],\n",
    "    'reward': [1, 0, 0, 0, -1, 0, 1, 0, 0, -1, -1, 0, 0, 0, -1],  # Recompensa de +1 por gol, -1 por perder posesión, 0 por acciones sin impacto\n",
    "    'next_state': ['Reinicio', 'Ataque_zona', 'Ataque_zona', 'Defensa_zona', 'Medio_campo', 'Ataque_zona', 'Reinicio', 'Medio_campo',\n",
    "                   'Ataque_zona', 'Defensa_zona', 'Medio_campo', 'Ataque_zona', 'Medio_campo', 'Defensa_zona', 'Medio_campo']\n",
    "}\n",
    "\n",
    "# Convertimos el diccionario en un DataFrame de pandas\n",
    "df = pd.DataFrame(data)\n",
    "\n",
    "# Guardamos el DataFrame como un archivo CSV para que lo uses más tarde\n",
    "df.to_csv('futbol_real_dataset.csv', index=False)\n",
    "\n",
    "# Mostrar el dataset\n",
    "print(\"Dataset creado:\\n\", df)\n"
   ]
  },
  {
   "cell_type": "markdown",
   "id": "0a2e1d26-947d-4dbc-be69-e5524b849aa7",
   "metadata": {},
   "source": [
    "**Desde aqui se hace**"
   ]
  },
  {
   "cell_type": "markdown",
   "id": "67fb7dc1-b9fa-4563-940d-bc522059829b",
   "metadata": {},
   "source": [
    "**Desde aqui se hace**"
   ]
  },
  {
   "cell_type": "code",
   "execution_count": 19,
   "id": "723b6948-0f54-4352-a2bb-f6dc2d175d54",
   "metadata": {},
   "outputs": [
    {
     "name": "stdout",
     "output_type": "stream",
     "text": [
      "    timestamp               date_GMT    status  attendance     home_team_name  \\\n",
      "0  1533927600   Aug 10 2018 - 7:00pm  complete       74439  Manchester United   \n",
      "1  1533987000  Aug 11 2018 - 11:30am  complete       51749   Newcastle United   \n",
      "2  1533996000   Aug 11 2018 - 2:00pm  complete       10353    AFC Bournemouth   \n",
      "3  1533996000   Aug 11 2018 - 2:00pm  complete       24821             Fulham   \n",
      "4  1533996000   Aug 11 2018 - 2:00pm  complete       24121  Huddersfield Town   \n",
      "\n",
      "      away_team_name          referee  Game Week  Pre-Match PPG (Home)  \\\n",
      "0     Leicester City   Andre Marriner          1                   0.0   \n",
      "1  Tottenham Hotspur  Martin Atkinson          1                   0.0   \n",
      "2       Cardiff City     Kevin Friend          1                   0.0   \n",
      "3     Crystal Palace        Mike Dean          1                   0.0   \n",
      "4            Chelsea   Chris Kavanagh          1                   0.0   \n",
      "\n",
      "   Pre-Match PPG (Away)  ...  odds_ft_home_team_win  odds_ft_draw  \\\n",
      "0                   0.0  ...                   1.37          4.98   \n",
      "1                   0.0  ...                   4.51          3.77   \n",
      "2                   0.0  ...                   2.03          3.51   \n",
      "3                   0.0  ...                   2.31          3.44   \n",
      "4                   0.0  ...                   7.47          4.27   \n",
      "\n",
      "   odds_ft_away_team_win  odds_ft_over15  odds_ft_over25  odds_ft_over35  \\\n",
      "0                   9.81            1.33            2.00            3.60   \n",
      "1                   1.84            1.31            1.95            3.50   \n",
      "2                   3.96            1.31            1.95            3.45   \n",
      "3                   3.26            1.28            1.87            3.20   \n",
      "4                   1.51            1.29            1.91            3.30   \n",
      "\n",
      "   odds_ft_over45  odds_btts_yes odds_btts_no  \\\n",
      "0            7.50           2.05         1.69   \n",
      "1            5.75           1.83         1.87   \n",
      "2            6.70           1.83         1.83   \n",
      "3            7.00           1.71         2.00   \n",
      "4            6.95           2.00         1.71   \n",
      "\n",
      "                                        stadium_name  \n",
      "0                          Old Trafford (Manchester)  \n",
      "1              St. James' Park (Newcastle upon Tyne)  \n",
      "2             Vitality Stadium (Bournemouth- Dorset)  \n",
      "3                            Craven Cottage (London)  \n",
      "4  John Smith's Stadium (Huddersfield- West Yorks...  \n",
      "\n",
      "[5 rows x 66 columns]\n",
      "\n",
      "Tabla Q entrenada:\n",
      "[[ 0.   2.1  0. ]\n",
      " [ 0.  -0.7  0. ]\n",
      " [ 0.   2.1  0. ]\n",
      " ...\n",
      " [ 0.   0.7  0. ]\n",
      " [ 0.   0.7  0. ]\n",
      " [ 0.   0.  -0.7]]\n",
      "\n",
      "Estado -> Índice: {(2, 1, 46, 54, 7, 5): 0, (1, 2, 40, 60, 3, 6): 1, (2, 0, 62, 38, 5, 2): 2, (0, 2, 66, 34, 7, 11): 3, (0, 3, 37, 63, 2, 5): 4, (2, 0, 53, 47, 6, 0): 5, (2, 2, 57, 43, 5, 6): 6, (4, 0, 64, 36, 9, 3): 7, (0, 0, 47, 53, 4, 7): 8, (0, 2, 42, 58, 4, 9): 9, (0, 0, 51, 49, 2, 7): 10, (2, 1, 58, 42, 8, 5): 11, (2, 0, 42, 58, 3, 4): 12, (3, 1, 59, 41, 12, 4): 13, (1, 2, 61, 39, 6, 6): 14, (3, 2, 62, 38, 12, 7): 15, (1, 3, 58, 42, 4, 7): 16, (6, 1, 76, 24, 15, 2): 17, (3, 2, 33, 67, 4, 4): 18, (0, 2, 36, 64, 3, 7): 19, (1, 1, 28, 72, 3, 7): 20, (2, 2, 49, 51, 6, 4): 21, (3, 1, 61, 39, 11, 6): 22, (0, 0, 58, 42, 2, 5): 23, (1, 2, 51, 49, 6, 6): 24, (1, 0, 70, 30, 9, 3): 25, (2, 1, 43, 57, 6, 4): 26, (4, 2, 63, 37, 13, 3): 27, (1, 2, 18, 82, 3, 4): 28, (0, 3, 57, 43, 6, 6): 29, (1, 2, 51, 49, 6, 5): 30, (2, 2, 41, 59, 6, 6): 31, (2, 0, 72, 28, 7, 2): 32, (0, 2, 50, 50, 7, 7): 33, (1, 1, 57, 43, 2, 7): 34, (0, 1, 47, 53, 4, 7): 35, (2, 1, 78, 22, 9, 3): 36, (2, 3, 27, 73, 4, 12): 37, (0, 2, 46, 54, 3, 10): 38, (2, 1, 34, 66, 4, 3): 39, (1, 2, 60, 40, 4, 11): 40, (4, 2, 46, 54, 6, 9): 41, (4, 1, 76, 24, 8, 3): 42, (0, 1, 58, 42, 3, 3): 43, (3, 0, 64, 36, 10, 4): 44, (1, 2, 36, 64, 3, 3): 45, (1, 2, 42, 58, 6, 7): 46, (1, 0, 58, 42, 8, 3): 47, (1, 3, 55, 45, 5, 5): 48, (2, 2, 51, 49, 6, 5): 49, (1, 1, 60, 40, 4, 7): 50, (4, 0, 37, 63, 6, 6): 51, (0, 5, 21, 79, 3, 11): 52, (0, 0, 61, 39, 5, 4): 53, (3, 1, 62, 38, 9, 3): 54, (3, 0, 60, 40, 5, 2): 55, (1, 1, 64, 36, 7, 9): 56, (1, 2, 28, 72, 5, 8): 57, (0, 0, 28, 72, 2, 7): 58, (2, 0, 62, 38, 6, 7): 59, (3, 1, 49, 51, 4, 5): 60, (2, 0, 63, 37, 3, 6): 61, (3, 0, 51, 49, 7, 0): 62, (0, 2, 52, 48, 6, 7): 63, (2, 0, 80, 20, 9, 2): 64, (0, 2, 41, 59, 2, 6): 65, (2, 0, 48, 52, 7, 7): 66, (1, 1, 47, 53, 5, 7): 67, (1, 2, 54, 46, 6, 3): 68, (2, 1, 44, 56, 6, 3): 69, (1, 0, 35, 65, 5, 5): 70, (1, 1, 31, 69, 4, 3): 71, (0, 1, 67, 33, 5, 3): 72, (1, 2, 51, 49, 3, 9): 73, (1, 0, 75, 25, 8, 7): 74, (0, 4, 47, 53, 3, 8): 75, (3, 2, 73, 27, 11, 9): 76, (1, 5, 48, 52, 5, 8): 77, (0, 3, 34, 66, 7, 7): 78, (0, 0, 49, 51, 3, 3): 79, (2, 2, 62, 38, 7, 5): 80, (0, 0, 57, 43, 3, 5): 81, (4, 2, 40, 60, 6, 5): 82, (5, 0, 69, 31, 11, 0): 83, (0, 1, 68, 32, 7, 3): 84, (0, 1, 44, 56, 5, 3): 85, (0, 2, 44, 56, 2, 4): 86, (0, 1, 47, 53, 2, 3): 87, (2, 0, 59, 41, 5, 4): 88, (3, 1, 69, 31, 7, 3): 89, (1, 0, 39, 61, 2, 8): 90, (0, 3, 52, 48, 2, 6): 91, (4, 1, 79, 21, 8, 2): 92, (0, 0, 50, 50, 5, 0): 93, (3, 0, 48, 52, 7, 8): 94, (1, 1, 64, 36, 8, 4): 95, (0, 4, 30, 70, 2, 9): 96, (2, 2, 42, 58, 4, 3): 97, (2, 1, 53, 47, 11, 7): 98, (0, 1, 48, 52, 2, 7): 99, (1, 2, 48, 52, 8, 9): 100, (0, 1, 40, 60, 3, 6): 101, (3, 1, 61, 39, 4, 4): 102, (1, 0, 41, 59, 3, 2): 103, (4, 2, 62, 38, 11, 4): 104, (1, 1, 61, 39, 5, 5): 105, (2, 3, 48, 52, 8, 9): 106, (6, 1, 67, 33, 9, 7): 107, (3, 1, 73, 27, 7, 3): 108, (1, 0, 45, 55, 3, 2): 109, (2, 1, 60, 40, 7, 4): 110, (1, 1, 43, 57, 8, 6): 111, (0, 0, 63, 37, 6, 2): 112, (2, 1, 39, 61, 7, 5): 113, (1, 1, 42, 58, 5, 7): 114, (0, 1, 35, 65, 6, 3): 115, (2, 0, 73, 27, 8, 4): 116, (0, 0, 68, 32, 5, 2): 117, (1, 1, 71, 29, 4, 6): 118, (3, 1, 64, 36, 6, 2): 119, (1, 1, 54, 46, 4, 4): 120, (1, 0, 70, 30, 9, 2): 121, (3, 2, 37, 63, 6, 9): 122, (0, 0, 59, 41, 6, 3): 123, (0, 3, 36, 64, 2, 8): 124, (0, 4, 30, 70, 2, 7): 125, (3, 1, 39, 61, 10, 3): 126, (1, 2, 41, 59, 6, 5): 127, (0, 2, 44, 56, 4, 7): 128, (1, 2, 56, 44, 5, 4): 129, (2, 1, 47, 53, 4, 5): 130, (2, 0, 58, 42, 10, 0): 131, (1, 2, 32, 68, 3, 7): 132, (2, 0, 37, 63, 4, 0): 133, (3, 1, 73, 27, 7, 2): 134, (0, 3, 58, 42, 5, 5): 135, (2, 2, 40, 60, 7, 6): 136, (2, 0, 66, 34, 10, 5): 137, (4, 2, 59, 41, 8, 7): 138, (1, 0, 57, 43, 4, 4): 139, (2, 1, 32, 68, 3, 7): 140, (3, 1, 31, 69, 4, 6): 141, (3, 1, 61, 39, 12, 6): 142, (1, 2, 29, 71, 8, 8): 143, (1, 3, 25, 75, 7, 13): 144, (1, 1, 45, 55, 8, 6): 145, (2, 1, 29, 71, 3, 4): 146, (1, 1, 76, 24, 4, 6): 147, (2, 2, 44, 56, 8, 5): 148, (3, 1, 52, 48, 9, 6): 149, (0, 4, 40, 60, 3, 5): 150, (1, 0, 61, 39, 3, 0): 151, (1, 0, 37, 63, 5, 2): 152, (1, 0, 36, 64, 5, 2): 153, (4, 1, 62, 38, 12, 5): 154, (3, 2, 48, 52, 7, 5): 155, (2, 0, 38, 62, 6, 5): 156, (0, 2, 42, 58, 4, 3): 157, (1, 2, 50, 50, 5, 7): 158, (2, 2, 56, 44, 6, 4): 159, (3, 1, 67, 33, 6, 3): 160, (1, 0, 43, 57, 2, 3): 161, (0, 1, 73, 27, 6, 6): 162, (1, 0, 70, 30, 4, 0): 163, (3, 2, 71, 29, 9, 4): 164, (2, 0, 37, 63, 5, 4): 165, (0, 2, 56, 44, 5, 4): 166, (1, 2, 41, 59, 3, 4): 167, (3, 2, 33, 67, 8, 5): 168, (3, 1, 64, 36, 12, 3): 169, (0, 2, 38, 62, 6, 7): 170, (3, 1, 60, 40, 7, 3): 171, (2, 0, 57, 43, 4, 6): 172, (0, 1, 72, 28, 6, 4): 173, (1, 3, 62, 38, 6, 7): 174, (2, 3, 78, 22, 6, 4): 175, (0, 0, 53, 47, 0, 3): 176, (0, 2, 51, 49, 8, 6): 177, (1, 5, 25, 75, 4, 10): 178, (2, 6, 41, 59, 4, 9): 179, (1, 1, 29, 71, 6, 6): 180, (1, 5, 49, 51, 5, 7): 181, (0, 0, 62, 38, 6, 5): 182, (2, 1, 33, 67, 6, 5): 183, (4, 0, 75, 25, 9, 3): 184, (3, 1, 64, 36, 11, 3): 185, (5, 0, 56, 44, 8, 5): 186, (1, 1, 32, 68, 4, 5): 187, (1, 2, 35, 65, 3, 5): 188, (1, 2, 45, 55, 6, 6): 189, (1, 0, 44, 56, 4, 5): 190, (1, 0, 43, 57, 6, 6): 191, (0, 1, 62, 38, 8, 4): 192, (1, 3, 60, 40, 4, 5): 193, (1, 1, 62, 38, 6, 3): 194, (5, 1, 47, 53, 11, 3): 195, (0, 1, 34, 66, 0, 5): 196, (2, 0, 43, 57, 6, 5): 197, (1, 3, 23, 77, 5, 7): 198, (4, 1, 64, 36, 9, 4): 199, (0, 1, 59, 41, 3, 5): 200, (4, 1, 59, 41, 10, 5): 201, (0, 3, 26, 74, 4, 5): 202, (0, 0, 71, 29, 7, 3): 203, (1, 2, 42, 58, 3, 9): 204, (2, 2, 54, 46, 7, 7): 205, (0, 2, 51, 49, 2, 5): 206, (3, 3, 57, 43, 13, 4): 207, (0, 2, 34, 66, 4, 8): 208, (2, 1, 49, 51, 5, 6): 209, (1, 0, 41, 59, 4, 3): 210, (0, 1, 29, 71, 0, 4): 211, (2, 1, 41, 59, 2, 5): 212, (0, 0, 38, 62, 0, 3): 213, (1, 2, 55, 45, 7, 3): 214, (1, 2, 71, 29, 7, 4): 215, (2, 1, 65, 35, 7, 3): 216, (2, 0, 50, 50, 4, 8): 217, (0, 1, 61, 39, 12, 9): 218, (3, 0, 76, 24, 10, 0): 219, (4, 3, 45, 55, 8, 7): 220, (2, 0, 38, 62, 5, 2): 221, (4, 3, 70, 30, 10, 4): 222, (2, 1, 56, 44, 6, 4): 223, (3, 0, 53, 47, 7, 2): 224, (2, 1, 39, 61, 5, 3): 225, (0, 0, 54, 46, 5, 4): 226, (2, 0, 35, 65, 6, 2): 227, (0, 3, 32, 68, 3, 5): 228, (1, 2, 26, 74, 5, 6): 229, (2, 1, 70, 30, 5, 3): 230, (4, 2, 61, 39, 9, 7): 231, (0, 1, 58, 42, 3, 6): 232, (3, 0, 54, 46, 10, 0): 233, (2, 2, 74, 26, 10, 5): 234, (2, 1, 23, 77, 3, 5): 235, (4, 0, 32, 68, 8, 8): 236, (1, 1, 58, 42, 5, 4): 237, (1, 1, 72, 28, 4, 3): 238, (2, 1, 68, 32, 4, 2): 239, (1, 0, 71, 29, 5, 3): 240, (0, 0, 55, 45, 5, 0): 241, (1, 1, 54, 46, 7, 5): 242, (5, 0, 65, 35, 8, 3): 243, (2, 0, 37, 63, 7, 0): 244, (1, 3, 64, 36, 5, 5): 245, (2, 0, 26, 74, 6, 3): 246, (0, 1, 44, 56, 7, 7): 247, (3, 1, 58, 42, 13, 3): 248, (1, 1, 26, 74, 3, 7): 249, (0, 2, 38, 62, 2, 5): 250, (0, 3, 51, 49, 4, 8): 251, (1, 1, 57, 43, 6, 5): 252, (1, 2, 54, 46, 8, 5): 253, (3, 0, 65, 35, 10, 3): 254, (1, 2, 66, 34, 8, 4): 255, (1, 0, 44, 56, 3, 5): 256, (1, 3, 68, 32, 7, 6): 257, (3, 1, 53, 47, 6, 10): 258, (6, 0, 55, 45, 10, 5): 259, (1, 1, 59, 41, 7, 4): 260, (1, 5, 35, 65, 7, 8): 261, (3, 1, 55, 45, 8, 6): 262, (2, 1, 30, 70, 5, 7): 263, (1, 1, 44, 56, 4, 3): 264, (2, 0, 54, 46, 13, 0): 265, (1, 4, 65, 35, 6, 6): 266, (2, 0, 62, 38, 5, 5): 267, (0, 0, 35, 65, 4, 2): 268, (0, 3, 32, 68, 0, 5): 269, (1, 0, 49, 51, 4, 0): 270, (2, 1, 49, 51, 4, 4): 271, (2, 0, 54, 46, 4, 3): 272, (5, 1, 64, 36, 8, 6): 273, (2, 0, 40, 60, 5, 5): 274, (1, 3, 45, 55, 3, 5): 275, (2, 0, 46, 54, 2, 0): 276, (5, 0, 61, 39, 11, 4): 277, (1, 0, 75, 25, 8, 2): 278, (1, 1, 60, 40, 4, 5): 279, (0, 1, 18, 82, 0, 8): 280, (1, 0, 52, 48, 5, 5): 281, (1, 3, 56, 44, 5, 5): 282, (3, 2, 64, 36, 7, 4): 283, (2, 0, 56, 44, 7, 5): 284, (2, 0, 55, 45, 5, 3): 285, (2, 1, 39, 61, 6, 3): 286, (1, 2, 36, 64, 6, 8): 287, (0, 0, 42, 58, 4, 4): 288, (1, 2, 62, 38, 4, 4): 289, (2, 0, 29, 71, 8, 3): 290, (0, 2, 56, 44, 2, 6): 291, (3, 1, 52, 48, 9, 4): 292, (3, 2, 45, 55, 8, 4): 293, (2, 1, 36, 64, 5, 6): 294, (3, 1, 71, 29, 10, 2): 295, (4, 2, 68, 32, 6, 3): 296, (1, 1, 75, 25, 7, 2): 297, (2, 0, 46, 54, 4, 5): 298, (2, 2, 48, 52, 4, 5): 299, (1, 2, 62, 38, 3, 5): 300, (4, 3, 64, 36, 6, 6): 301, (1, 2, 37, 63, 3, 7): 302, (2, 0, 32, 68, 9, 6): 303, (0, 2, 34, 66, 0, 8): 304, (0, 1, 60, 40, 2, 3): 305, (2, 0, 37, 63, 2, 2): 306, (2, 0, 48, 52, 6, 6): 307, (2, 0, 58, 42, 5, 3): 308, (2, 1, 51, 49, 6, 9): 309, (0, 2, 49, 51, 2, 10): 310, (1, 2, 28, 72, 4, 4): 311, (2, 1, 48, 52, 4, 3): 312, (2, 0, 70, 30, 5, 2): 313, (4, 1, 46, 54, 8, 8): 314, (2, 1, 49, 51, 3, 5): 315, (3, 0, 68, 32, 5, 2): 316, (2, 0, 65, 35, 11, 2): 317, (2, 0, 78, 22, 12, 2): 318, (1, 3, 33, 67, 2, 6): 319, (1, 3, 59, 41, 3, 4): 320, (1, 4, 44, 56, 5, 10): 321, (0, 1, 53, 47, 6, 2): 322, (1, 0, 42, 58, 7, 3): 323, (2, 0, 54, 46, 8, 3): 324, (0, 1, 71, 29, 6, 6): 325, (4, 0, 70, 30, 6, 2): 326, (0, 5, 50, 50, 2, 8): 327, (2, 0, 46, 54, 8, 3): 328, (2, 0, 40, 60, 6, 2): 329, (3, 1, 30, 70, 7, 3): 330, (2, 1, 42, 58, 5, 5): 331, (1, 3, 27, 73, 4, 7): 332, (2, 0, 61, 39, 8, 4): 333, (0, 1, 34, 66, 4, 6): 334, (0, 2, 63, 37, 3, 4): 335, (1, 0, 60, 40, 5, 5): 336, (0, 1, 49, 51, 6, 6): 337, (1, 2, 45, 55, 4, 7): 338, (2, 2, 49, 51, 4, 6): 339, (0, 0, 68, 32, 6, 0): 340, (3, 1, 43, 57, 7, 4): 341, (4, 0, 48, 52, 9, 2): 342, (2, 3, 72, 28, 6, 8): 343, (0, 2, 23, 77, 3, 7): 344, (2, 2, 76, 24, 10, 4): 345, (1, 1, 62, 38, 5, 5): 346, (1, 0, 78, 22, 6, 2): 347, (3, 1, 29, 71, 4, 2): 348, (0, 2, 36, 64, 2, 6): 349, (5, 0, 70, 30, 8, 2): 350, (0, 1, 63, 37, 5, 8): 351, (0, 0, 36, 64, 0, 4): 352, (1, 0, 73, 27, 3, 9): 353, (3, 3, 44, 56, 8, 6): 354, (1, 2, 56, 44, 2, 5): 355, (1, 1, 49, 51, 3, 2): 356, (3, 0, 67, 33, 13, 2): 357, (0, 1, 30, 70, 0, 8): 358, (1, 1, 51, 49, 6, 4): 359, (2, 0, 60, 40, 7, 2): 360, (1, 0, 53, 47, 7, 6): 361, (3, 0, 56, 44, 7, 2): 362, (1, 0, 39, 61, 7, 3): 363, (2, 3, 39, 61, 9, 8): 364, (2, 3, 30, 70, 8, 5): 365, (3, 0, 58, 42, 10, 4): 366, (1, 1, 35, 65, 4, 8): 367, (1, 1, 70, 30, 9, 6): 368, (1, 0, 61, 39, 6, 3): 369, (1, 4, 23, 77, 3, 10): 370, (1, 3, 39, 61, 6, 7): 371, (5, 3, 45, 55, 9, 9): 372, (0, 4, 68, 32, 3, 7): 373, (0, 0, 46, 54, 4, 5): 374, (2, 0, 59, 41, 6, 3): 375, (0, 2, 73, 27, 11, 5): 376, (1, 1, 53, 47, 4, 4): 377, (2, 2, 55, 45, 4, 10): 378, (1, 4, 48, 52, 9, 10): 379}\n",
      "Acción -> Índice: {'Atacar': 0, 'Defender': 1, 'Equilibrado': 2}\n"
     ]
    }
   ],
   "source": [
    "import pandas as pd\n",
    "import numpy as np\n",
    "\n",
    "# Cargar el dataset\n",
    "file_path = 'england-premier-league-matches-2018-to-2019-stats.csv'\n",
    "matches_df = pd.read_csv(file_path)\n",
    "\n",
    "# Mostrar las primeras filas del dataset para entender la estructura\n",
    "print(matches_df.head())\n",
    "\n",
    "# Definir los estados usando columnas clave\n",
    "matches_df['state'] = matches_df.apply(lambda row: (\n",
    "    row['home_team_goal_count'], \n",
    "    row['away_team_goal_count'], \n",
    "    row['home_team_possession'], \n",
    "    row['away_team_possession'], \n",
    "    row['home_team_shots_on_target'], \n",
    "    row['away_team_shots_on_target']\n",
    "), axis=1)\n",
    "\n",
    "# Definir las acciones: Atacar, Defender, Jugar equilibrado (para simplificar)\n",
    "actions = ['Atacar', 'Defender', 'Equilibrado']\n",
    "\n",
    "# Mapear estados y acciones a índices\n",
    "state_list = matches_df['state'].unique().tolist()\n",
    "state_to_index = {state: idx for idx, state in enumerate(state_list)}\n",
    "action_to_index = {action: idx for idx, action in enumerate(actions)}\n",
    "\n",
    "# Inicializamos la tabla Q\n",
    "Qtable = np.zeros((len(state_list), len(actions)))\n",
    "\n",
    "# Parámetros del Q-learning\n",
    "alpha = 0.7   # Tasa de aprendizaje\n",
    "gamma = 0.95  # Factor de descuento\n",
    "\n",
    "# Recompensa basada en el resultado del partido\n",
    "def calculate_reward(row):\n",
    "    if row['home_team_goal_count'] > row['away_team_goal_count']:\n",
    "        return 3  # Victoria\n",
    "    elif row['home_team_goal_count'] == row['away_team_goal_count']:\n",
    "        return 1  # Empate\n",
    "    else:\n",
    "        return -1  # Derrota\n",
    "\n",
    "# Aplicamos la recompensa\n",
    "matches_df['reward'] = matches_df.apply(calculate_reward, axis=1)\n",
    "\n",
    "# Entrenamiento de Q-learning usando el dataset\n",
    "for i, row in matches_df.iterrows():\n",
    "    state_idx = state_to_index[row['state']]\n",
    "    # Aquí se podría seleccionar una acción aleatoria o basada en una política epsilon-greedy\n",
    "    action_idx = np.random.choice(len(actions))  # Para simplificar, elegimos una acción al azar\n",
    "\n",
    "    # Obtener la recompensa\n",
    "    reward = row['reward']\n",
    "\n",
    "    # Actualizar la tabla Q usando la fórmula de Q-learning\n",
    "    Qtable[state_idx, action_idx] = Qtable[state_idx, action_idx] + alpha * (\n",
    "        reward + gamma * np.max(Qtable[state_idx, :]) - Qtable[state_idx, action_idx]\n",
    "    )\n",
    "\n",
    "# Mostrar la tabla Q entrenada\n",
    "print(\"\\nTabla Q entrenada:\")\n",
    "print(Qtable)\n",
    "\n",
    "# Mostrar el mapeo de estados y acciones\n",
    "print(\"\\nEstado -> Índice:\", state_to_index)\n",
    "print(\"Acción -> Índice:\", action_to_index)\n"
   ]
  },
  {
   "cell_type": "code",
   "execution_count": 20,
   "id": "2c6eaba9-5150-4285-9fae-8ef8420f56f6",
   "metadata": {},
   "outputs": [
    {
     "name": "stdout",
     "output_type": "stream",
     "text": [
      "                     State  Atacar  Defender  Equilibrado\n",
      "0     (2, 1, 46, 54, 7, 5)     0.0       2.1          0.0\n",
      "1     (1, 2, 40, 60, 3, 6)     0.0      -0.7          0.0\n",
      "2     (2, 0, 62, 38, 5, 2)     0.0       2.1          0.0\n",
      "3    (0, 2, 66, 34, 7, 11)    -0.7       0.0          0.0\n",
      "4     (0, 3, 37, 63, 2, 5)     0.0      -0.7          0.0\n",
      "..                     ...     ...       ...          ...\n",
      "375   (2, 0, 59, 41, 6, 3)     2.1       0.0          0.0\n",
      "376  (0, 2, 73, 27, 11, 5)     0.0       0.0         -0.7\n",
      "377   (1, 1, 53, 47, 4, 4)     0.0       0.7          0.0\n",
      "378  (2, 2, 55, 45, 4, 10)     0.0       0.7          0.0\n",
      "379  (1, 4, 48, 52, 9, 10)     0.0       0.0         -0.7\n",
      "\n",
      "[380 rows x 4 columns]\n"
     ]
    }
   ],
   "source": [
    "import pandas as pd\n",
    "\n",
    "def print_qtable_explanatory(Qtable, state_to_index, action_to_index):\n",
    "    # Crear un DataFrame con los valores de la tabla Q\n",
    "    actions = list(action_to_index.keys())  # Lista de acciones\n",
    "    df_qtable = pd.DataFrame(Qtable, columns=actions)\n",
    "\n",
    "    # Crear una lista para mostrar los estados de manera más legible\n",
    "    state_list = list(state_to_index.keys())\n",
    "    df_qtable.insert(0, 'State', state_list)  # Insertar los estados como primera columna\n",
    "\n",
    "    # Mostrar la tabla Q de forma más explicativa\n",
    "    return df_qtable\n",
    "\n",
    "# Crear la tabla explicativa\n",
    "explanatory_qtable = print_qtable_explanatory(Qtable, state_to_index, action_to_index)\n",
    "\n",
    "# Mostrar la tabla\n",
    "print(explanatory_qtable)\n",
    "# Ejemplo: (goles local, goles visitante, posesión local, posesión visitante, disparos local, disparos visitante)"
   ]
  },
  {
   "cell_type": "code",
   "execution_count": 25,
   "id": "5917c8ee-e60f-4ab7-9ebc-f7aef690dc00",
   "metadata": {},
   "outputs": [
    {
     "name": "stdout",
     "output_type": "stream",
     "text": [
      "Estado (6, 2, 78, 55, 6, 6) no encontrado en la tabla Q. Se elige la acción 'Atacar' por defecto.\n"
     ]
    }
   ],
   "source": [
    "def predict_action(Qtable, state_to_index, action_to_index, nuevo_estado):\n",
    "    # Verificar si el estado está en la tabla de estados\n",
    "    if nuevo_estado in state_to_index:\n",
    "        state_idx = state_to_index[nuevo_estado]\n",
    "        # Encontrar la acción con la recompensa más alta\n",
    "        best_action_idx = np.argmax(Qtable[state_idx])\n",
    "        best_action = list(action_to_index.keys())[best_action_idx]\n",
    "        print(f\"Para el estado {nuevo_estado}, la mejor acción es: {best_action}\")\n",
    "    else:\n",
    "        # Si el estado no está en la tabla Q, elegir una acción aleatoria o por defecto\n",
    "        best_action = np.random.choice(list(action_to_index.keys()))  # O puedes elegir 'Equilibrado' como acción predeterminada\n",
    "        print(f\"Estado {nuevo_estado} no encontrado en la tabla Q. Se elige la acción '{best_action}' por defecto.\")\n",
    "\n",
    "# Ejemplo de uso para predicción con estado desconocido\n",
    "nuevo_estado = (6, 2, 78, 55, 6, 6)  # Un estado nuevo que no fue parte del entrenamiento\n",
    "predict_action(Qtable, state_to_index, action_to_index, nuevo_estado)\n",
    "\n"
   ]
  }
 ],
 "metadata": {
  "kernelspec": {
   "display_name": "Python 3 (ipykernel)",
   "language": "python",
   "name": "python3"
  },
  "language_info": {
   "codemirror_mode": {
    "name": "ipython",
    "version": 3
   },
   "file_extension": ".py",
   "mimetype": "text/x-python",
   "name": "python",
   "nbconvert_exporter": "python",
   "pygments_lexer": "ipython3",
   "version": "3.12.4"
  }
 },
 "nbformat": 4,
 "nbformat_minor": 5
}
